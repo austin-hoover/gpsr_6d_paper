{
 "cells": [
  {
   "cell_type": "code",
   "execution_count": 1,
   "metadata": {},
   "outputs": [],
   "source": [
    "import os\n",
    "import torch\n",
    "import numpy as np\n",
    "import matplotlib.pyplot as plt\n",
    "\n",
    "from phase_space_reconstruction.virtual.beamlines import quadlet_tdc_bend\n",
    "from phase_space_reconstruction.diagnostics import ImageDiagnostic\n",
    "\n",
    "from bmadx.distgen_utils import create_beam\n",
    "from bmadx.plot import plot_projections\n",
    "from bmadx.constants import PI"
   ]
  },
  {
   "cell_type": "code",
   "execution_count": 2,
   "metadata": {},
   "outputs": [
    {
     "name": "stderr",
     "output_type": "stream",
     "text": [
      "/global/homes/r/rroussel/.conda/envs/ps-reconstruction/lib/python3.10/site-packages/tqdm/auto.py:21: TqdmWarning: IProgress not found. Please update jupyter and ipywidgets. See https://ipywidgets.readthedocs.io/en/stable/user_install.html\n",
      "  from .autonotebook import tqdm as notebook_tqdm\n"
     ]
    },
    {
     "name": "stdout",
     "output_type": "stream",
     "text": [
      "0\n",
      "5\n",
      "10\n",
      "15\n",
      "20\n",
      "25\n",
      "30\n",
      "35\n",
      "40\n",
      "45\n",
      "50\n",
      "55\n",
      "60\n",
      "65\n",
      "70\n",
      "75\n",
      "80\n",
      "85\n",
      "90\n",
      "95\n",
      "100\n",
      "105\n",
      "110\n",
      "115\n",
      "120\n",
      "125\n",
      "130\n",
      "135\n",
      "140\n",
      "145\n",
      "150\n",
      "155\n",
      "160\n",
      "165\n",
      "170\n",
      "175\n",
      "180\n",
      "185\n",
      "190\n",
      "195\n",
      "result:  k1             -21.817185\n",
      "k2             -30.131326\n",
      "k3              25.199412\n",
      "std_x            0.000522\n",
      "std_y            0.000522\n",
      "total_size       0.000739\n",
      "xopt_runtime     0.024908\n",
      "xopt_error          False\n",
      "Name: 1005, dtype: object\n"
     ]
    }
   ],
   "source": [
    "# use xopt for optimization\n",
    "from triplet_opt import optimize_function, output\n",
    "from xopt import VOCS\n",
    "from copy import deepcopy\n",
    "\n",
    "p0c = 43.36e6 # reference momentum in eV/c\n",
    "lattice = quadlet_tdc_bend(p0c=p0c, dipole_on=False)\n",
    "\n",
    "# load beams\n",
    "beams = [\n",
    "    #torch.load(\"../data/gaussian_beam.pt\"),\n",
    "    #torch.load(\"../data/gaussian_beam_w_E_corr.pt\"),\n",
    "    #torch.load(\"../data/nonlinear_beam.pt\"),\n",
    "    torch.load(\"../data/eex_beam.pt\"),\n",
    "\n",
    "]\n",
    "\n",
    "\n",
    "opt_vocs = VOCS(\n",
    "        variables = {\"k1\":[-50,50], \"k2\":[-50,50], \"k3\":[-50,50]},\n",
    "        objectives = {\"total_size\": \"MINIMIZE\"}\n",
    "    )\n",
    "\n",
    "for beam in beams:\n",
    "    beam.data = beam.data[::100]\n",
    "    opt_triplet =  optimize_function(\n",
    "        opt_vocs, output, n_iterations=200, \n",
    "        function_kwargs={\n",
    "            'beam': beam,\n",
    "            'lattice': deepcopy(lattice),\n",
    "        },\n",
    "        generator_kwargs={\"n_interpolate_points\":5}\n",
    "    )\n",
    "    \n",
    "    #note optimize function re-evaluates best point\n",
    "    print(\"result: \", opt_triplet.data.iloc[-1])\n",
    "\n",
    "\n"
   ]
  },
  {
   "cell_type": "code",
   "execution_count": null,
   "metadata": {},
   "outputs": [],
   "source": []
  }
 ],
 "metadata": {
  "kernelspec": {
   "display_name": "Python 3 (ipykernel)",
   "language": "python",
   "name": "python3"
  },
  "language_info": {
   "codemirror_mode": {
    "name": "ipython",
    "version": 3
   },
   "file_extension": ".py",
   "mimetype": "text/x-python",
   "name": "python",
   "nbconvert_exporter": "python",
   "pygments_lexer": "ipython3",
   "version": "3.10.12"
  }
 },
 "nbformat": 4,
 "nbformat_minor": 4
}
